{
 "cells": [
  {
   "cell_type": "markdown",
   "metadata": {},
   "source": [
    "# 1"
   ]
  },
  {
   "cell_type": "markdown",
   "metadata": {},
   "source": [
    "回答　 Y^ ＝ 0.7112X1 + 0.3764X2 + 48.0687"
   ]
  },
  {
   "cell_type": "markdown",
   "metadata": {},
   "source": [
    "Yを目的変数（結果）、Xを説明変数（原因）とすると回帰方程式は Y^ = a + bX+cX とおく。aは切片。"
   ]
  },
  {
   "cell_type": "markdown",
   "metadata": {},
   "source": [
    "編回帰係数　＝　回帰分析において得られる回帰方程式の各説明変数の係数のこと"
   ]
  },
  {
   "cell_type": "markdown",
   "metadata": {},
   "source": [
    "偏回帰係数は、それ以外の説明変数の値を固定した（変化させない）場合に、その説明変数が１増加するとYがどれだけ\n",
    "増加/減少するかを示している"
   ]
  },
  {
   "cell_type": "markdown",
   "metadata": {},
   "source": [
    "# 2"
   ]
  },
  {
   "cell_type": "markdown",
   "metadata": {},
   "source": [
    " 回答　２"
   ]
  },
  {
   "cell_type": "markdown",
   "metadata": {},
   "source": [
    "# P値(P-value)"
   ]
  },
  {
   "cell_type": "markdown",
   "metadata": {},
   "source": [
    "統計的仮説検定において、帰無仮説の元で検定統計量がその値となる確率のこと。P値が小さいほど、検定統計量がその値となること\n",
    "はあまり起こりえないことを意味する。\n",
    "一般的にP値が5%または1%以下の場合に帰無仮説を偽として棄却し、対立仮説を採択する"
   ]
  },
  {
   "cell_type": "markdown",
   "metadata": {},
   "source": [
    "# 決定係数"
   ]
  },
  {
   "cell_type": "markdown",
   "metadata": {},
   "source": [
    "決定係数は、説明変数が目的変数をどれくらい説明しているか、つまり「固定変動が全変数に対してどれだけ多いか　＝　残差変動が全変動に\n",
    "対してどれだけ少ないか」を表すもの"
   ]
  },
  {
   "cell_type": "markdown",
   "metadata": {},
   "source": [
    "# 自由度調整済み決定係数"
   ]
  },
  {
   "cell_type": "markdown",
   "metadata": {},
   "source": [
    "決定係数は説明変数の数が増えるほど１に近づくという性質を持っています。そのため、説明変数の数が多い場合、この点を補正した「自由度調整\n",
    "済み決定係数」を使う。"
   ]
  },
  {
   "cell_type": "markdown",
   "metadata": {},
   "source": [
    "決定係数や自由度調整済み決定係数を用いると、異なる回帰モデル間での良し悪しを判断することができる。特に、説明変数の数が異なる回帰モデル\n",
    "同士を比較する場合、自由度調整済み決定係数を使う。決定係数や自由度調整済み決定係数の値が高いほど、元のデータに対する当てはまりが良い\n",
    "モデルと言える"
   ]
  },
  {
   "cell_type": "markdown",
   "metadata": {},
   "source": [
    "# 重相関係数(multiple correlation coefficient)"
   ]
  },
  {
   "cell_type": "markdown",
   "metadata": {},
   "source": [
    "複数の変数を直線の式で表して線型結合した値と他のある変数の値との相関係数のこと\n",
    "重回帰分析の場合、目的変数の理論値と実測値との間の相関係数であり、決定係数は重相間関係の２乗である。0から1の間の値を取り、1に近いほど\n",
    "分析の精度は高いと言える"
   ]
  },
  {
   "cell_type": "markdown",
   "metadata": {},
   "source": [
    "# 3"
   ]
  },
  {
   "cell_type": "markdown",
   "metadata": {},
   "source": [
    "# 残差(residual)"
   ]
  },
  {
   "cell_type": "markdown",
   "metadata": {},
   "source": [
    " 回帰分析の際に、推定されたモデルのパラメータでは説明できない部分。観測値から推定値を引いたものとして算出される"
   ]
  },
  {
   "cell_type": "markdown",
   "metadata": {},
   "source": [
    "# 残差プロット"
   ]
  },
  {
   "cell_type": "markdown",
   "metadata": {},
   "source": [
    "各データの残差を左から順番に並べた「残差プロット」というグラフを作成する。横軸はデータの番号を、縦軸は残差の値を表す。残差プロットでは、縦軸の「0」に対して、残渣がどのようにばらついているかを確認する。残差が縦軸「0」に対して均一に分散している場合、\n",
    "大きな問題はない。残差プロットの中で他とは異なり大きく外れている値が少数ある場合、該当する値は外れ値である可能性が高い"
   ]
  },
  {
   "cell_type": "markdown",
   "metadata": {},
   "source": [
    "# 4"
   ]
  },
  {
   "cell_type": "markdown",
   "metadata": {},
   "source": [
    "a = (400 - 290) /(550 -250) = 0.366"
   ]
  },
  {
   "cell_type": "markdown",
   "metadata": {},
   "source": [
    "# 5"
   ]
  },
  {
   "cell_type": "markdown",
   "metadata": {},
   "source": [
    "# 偏回帰係数の有意性の検定"
   ]
  },
  {
   "cell_type": "markdown",
   "metadata": {},
   "source": [
    "偏回帰係数の有意性の検定とは、定数項も含めた各偏回帰係数が0であるかについての検定結果です。帰無仮説は「偏回帰係数=0」です。\n",
    "偏回帰係数を標準誤差で割った値について、自由度のt分布を用いて検定を行います。すなわち、次の式から算出される統計量t（t値）が\n",
    "自由度のt分布に従うことを用います。nはサンプルサイズを、kは説明変数の数を表します。"
   ]
  },
  {
   "cell_type": "markdown",
   "metadata": {},
   "source": [
    " 標準編回帰係数 = 編回帰係数✖️説明変数の標準偏差÷目的変数の標準偏差"
   ]
  },
  {
   "cell_type": "markdown",
   "metadata": {},
   "source": [
    "「有意F」の値です。この値は、「回帰」と「残差」の2つの「自由度」に基づくF分布における「観測された分差比（＝F値）」の上側確率です"
   ]
  },
  {
   "cell_type": "markdown",
   "metadata": {},
   "source": [
    "■偏回帰係数の信頼区間\n",
    "\n",
    "偏回帰係数の有意性の検定で用いた自由度(n-k-1)のt分布を使うと、次の式から偏回帰係数\\widehat{\\beta}の(100(1-\\alpha)\\%)信頼区間を求める\n",
    "ことができます。nは抽出したサンプルサイズ、kは説明変数の数、t_{\\frac{\\alpha}{2}}(n-k-1)は自由度が(n-k-1)のt分布における上側確率が\n",
    "α/2となる値（t値）を表します。\n",
    "\n",
    " https://bellcurve.jp/statistics/course/9702.html\n"
   ]
  },
  {
   "cell_type": "code",
   "execution_count": null,
   "metadata": {},
   "outputs": [],
   "source": []
  }
 ],
 "metadata": {
  "kernelspec": {
   "display_name": "Python 3",
   "language": "python",
   "name": "python3"
  },
  "language_info": {
   "codemirror_mode": {
    "name": "ipython",
    "version": 3
   },
   "file_extension": ".py",
   "mimetype": "text/x-python",
   "name": "python",
   "nbconvert_exporter": "python",
   "pygments_lexer": "ipython3",
   "version": "3.7.1"
  }
 },
 "nbformat": 4,
 "nbformat_minor": 2
}
